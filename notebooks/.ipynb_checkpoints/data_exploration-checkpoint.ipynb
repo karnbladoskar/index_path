{
 "cells": [
  {
   "cell_type": "code",
   "execution_count": 1,
   "metadata": {},
   "outputs": [],
   "source": [
    "import sys\n",
    "import numpy as np\n",
    "import pandas as pd\n",
    "sys.path.append('../scripts')"
   ]
  },
  {
   "cell_type": "code",
   "execution_count": 2,
   "metadata": {},
   "outputs": [],
   "source": [
    "try:\n",
    "    import scripts.dat as dt\n",
    "    import scripts.viz as viz\n",
    "\n",
    "except ModuleNotFoundError:\n",
    "    import dat as dt\n",
    "    import viz as viz"
   ]
  },
  {
   "cell_type": "markdown",
   "metadata": {},
   "source": [
    "# Set OMXS30 as current market"
   ]
  },
  {
   "cell_type": "code",
   "execution_count": 3,
   "metadata": {},
   "outputs": [
    {
     "name": "stdout",
     "output_type": "stream",
     "text": [
      "Found: |  2000-01-01-2018-03-16.csv  | on Index: |  0  |\n",
      "\n",
      "\n"
     ]
    }
   ],
   "source": [
    "market = 'OMXS30'\n",
    "market_dir = dt.get_market_dir(market)\n",
    "file_names = dt.get_file_names(market_dir)\n",
    "dt.load_data(market_dir, file_names)\n",
    "data = dt.load_data(market_dir, file_names)"
   ]
  },
  {
   "cell_type": "markdown",
   "metadata": {},
   "source": [
    "## Raw data "
   ]
  },
  {
   "cell_type": "code",
   "execution_count": 4,
   "metadata": {},
   "outputs": [
    {
     "name": "stdout",
     "output_type": "stream",
     "text": [
      "         Date High price Low price Closing price Average price  Total volume  \\\n",
      "0  2018-03-15   1592.280  1592.280      1592.280           NaN           1.0   \n",
      "1  2018-03-14   1598.350  1598.350      1598.350           NaN           1.0   \n",
      "2  2018-03-13   1603.340  1603.340      1603.340           NaN           1.0   \n",
      "\n",
      "  Turnover  Trades  \n",
      "0      NaN       0  \n",
      "1      NaN       0  \n",
      "2      NaN       0  \n"
     ]
    }
   ],
   "source": [
    "print(data.head(3))"
   ]
  },
  {
   "cell_type": "markdown",
   "metadata": {},
   "source": [
    "## Drop empty columns "
   ]
  },
  {
   "cell_type": "code",
   "execution_count": 5,
   "metadata": {},
   "outputs": [],
   "source": [
    "data.drop(['Average price'], axis=1, inplace=True)\n",
    "data.drop(['Turnover'], axis=1, inplace=True)\n",
    "data.drop(['Total volume'], axis=1, inplace=True)\n",
    "data.drop(['Trades'], axis=1, inplace=True)"
   ]
  },
  {
   "cell_type": "code",
   "execution_count": 6,
   "metadata": {},
   "outputs": [
    {
     "name": "stdout",
     "output_type": "stream",
     "text": [
      "         Date High price Low price Closing price\n",
      "0  2018-03-15   1592.280  1592.280      1592.280\n",
      "1  2018-03-14   1598.350  1598.350      1598.350\n",
      "2  2018-03-13   1603.340  1603.340      1603.340\n"
     ]
    }
   ],
   "source": [
    "print(data.head(3))"
   ]
  },
  {
   "cell_type": "markdown",
   "metadata": {},
   "source": [
    "# Visualize data"
   ]
  },
  {
   "cell_type": "markdown",
   "metadata": {},
   "source": [
    "But first, let's setup Plotly..!"
   ]
  },
  {
   "cell_type": "code",
   "execution_count": 13,
   "metadata": {},
   "outputs": [],
   "source": [
    "from matplotlib import pyplot as plt\n",
    "from plotly.offline import download_plotlyjs, init_notebook_mode, plot, iplot\n",
    "from plotly.tools import set_credentials_file, set_config_file\n",
    "from plotly.graph_objs import Scatter, Figure, Layout\n",
    "from plotly import plotly as py"
   ]
  },
  {
   "cell_type": "code",
   "execution_count": 14,
   "metadata": {},
   "outputs": [
    {
     "data": {
      "text/html": [
       "<script>requirejs.config({paths: { 'plotly': ['https://cdn.plot.ly/plotly-latest.min']},});if(!window.Plotly) {{require(['plotly'],function(plotly) {window.Plotly=plotly;});}}</script>"
      ],
      "text/vnd.plotly.v1+html": [
       "<script>requirejs.config({paths: { 'plotly': ['https://cdn.plot.ly/plotly-latest.min']},});if(!window.Plotly) {{require(['plotly'],function(plotly) {window.Plotly=plotly;});}}</script>"
      ]
     },
     "metadata": {},
     "output_type": "display_data"
    },
    {
     "data": {
      "application/vnd.plotly.v1+json": {
       "data": [
        {
         "type": "scatter",
         "x": [
          "2018-03-15",
          "2016-03-23",
          "2014-03-24",
          "2012-03-21",
          "2010-04-01",
          "2008-04-09",
          "2006-04-07",
          "2004-04-23",
          "2002-04-24",
          "2000-04-26"
         ],
         "y": [
          "Closing price"
         ]
        }
       ],
       "layout": {}
      },
      "text/html": [
       "<div id=\"0a4f6285-e8f4-4dd6-a968-d9239b98917c\" style=\"height: 525px; width: 100%;\" class=\"plotly-graph-div\"></div><script type=\"text/javascript\">require([\"plotly\"], function(Plotly) { window.PLOTLYENV=window.PLOTLYENV || {};window.PLOTLYENV.BASE_URL=\"https://plot.ly\";Plotly.newPlot(\"0a4f6285-e8f4-4dd6-a968-d9239b98917c\", [{\"type\": \"scatter\", \"x\": [\"2018-03-15\", \"2016-03-23\", \"2014-03-24\", \"2012-03-21\", \"2010-04-01\", \"2008-04-09\", \"2006-04-07\", \"2004-04-23\", \"2002-04-24\", \"2000-04-26\"], \"y\": [\"Closing price\"]}], {}, {\"showLink\": true, \"linkText\": \"Export to plot.ly\"})});</script>"
      ],
      "text/vnd.plotly.v1+html": [
       "<div id=\"0a4f6285-e8f4-4dd6-a968-d9239b98917c\" style=\"height: 525px; width: 100%;\" class=\"plotly-graph-div\"></div><script type=\"text/javascript\">require([\"plotly\"], function(Plotly) { window.PLOTLYENV=window.PLOTLYENV || {};window.PLOTLYENV.BASE_URL=\"https://plot.ly\";Plotly.newPlot(\"0a4f6285-e8f4-4dd6-a968-d9239b98917c\", [{\"type\": \"scatter\", \"x\": [\"2018-03-15\", \"2016-03-23\", \"2014-03-24\", \"2012-03-21\", \"2010-04-01\", \"2008-04-09\", \"2006-04-07\", \"2004-04-23\", \"2002-04-24\", \"2000-04-26\"], \"y\": [\"Closing price\"]}], {}, {\"showLink\": true, \"linkText\": \"Export to plot.ly\"})});</script>"
      ]
     },
     "metadata": {},
     "output_type": "display_data"
    }
   ],
   "source": [
    "every = 500\n",
    "df = [Scatter(x=data['Date'][::every], y=data['Closing price'][::every])]\n",
    "init_notebook_mode(connected=True)\n",
    "iplot(df)"
   ]
  },
  {
   "cell_type": "code",
   "execution_count": 16,
   "metadata": {},
   "outputs": [
    {
     "name": "stdout",
     "output_type": "stream",
     "text": [
      "['Closing price']\n"
     ]
    }
   ],
   "source": [
    "y=['Closing price'][::every]\n",
    "print(y)"
   ]
  }
 ],
 "metadata": {
  "kernelspec": {
   "display_name": "Python 3",
   "language": "python",
   "name": "python3"
  },
  "language_info": {
   "codemirror_mode": {
    "name": "ipython",
    "version": 3
   },
   "file_extension": ".py",
   "mimetype": "text/x-python",
   "name": "python",
   "nbconvert_exporter": "python",
   "pygments_lexer": "ipython3",
   "version": "3.6.2"
  }
 },
 "nbformat": 4,
 "nbformat_minor": 2
}
